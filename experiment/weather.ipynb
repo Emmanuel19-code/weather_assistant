{
 "cells": [
  {
   "cell_type": "code",
   "execution_count": 12,
   "metadata": {},
   "outputs": [
    {
     "data": {
      "text/plain": [
       "True"
      ]
     },
     "execution_count": 12,
     "metadata": {},
     "output_type": "execute_result"
    }
   ],
   "source": [
    "from dotenv import load_dotenv\n",
    "import os\n",
    "from langchain_google_genai import GoogleGenerativeAI\n",
    "\n",
    "load_dotenv()"
   ]
  },
  {
   "cell_type": "code",
   "execution_count": 13,
   "metadata": {},
   "outputs": [
    {
     "name": "stdout",
     "output_type": "stream",
     "text": [
      "In a world so bright,\n",
      "Twinkle, twinkle, little light.\n"
     ]
    }
   ],
   "source": [
    "llm = GoogleGenerativeAI(model=\"gemini-pro\", google_api_key=os.environ['GOOGLE_API_KEY'], temperature=0.5)\n",
    "poem = llm('write a poem for a 2 year old child to learn with ease it should be made up of only 2 lines')\n",
    "print(poem)"
   ]
  },
  {
   "cell_type": "code",
   "execution_count": 14,
   "metadata": {},
   "outputs": [],
   "source": [
    "from langchain.agents import AgentType, initialize_agent, load_tools\n",
    "from langchain_community.llms import OpenAI\n",
    "\n",
    "os.environ[\"OPENWEATHERMAP_API_KEY\"] = os.environ['OPEN_WEATHER']\n",
    "\n",
    "tools = load_tools([\"openweathermap-api\"], llm)\n",
    "\n",
    "agent_chain = initialize_agent(\n",
    "    tools=tools, llm=llm, agent=AgentType.ZERO_SHOT_REACT_DESCRIPTION, verbose=True\n",
    ")"
   ]
  },
  {
   "cell_type": "code",
   "execution_count": 15,
   "metadata": {},
   "outputs": [],
   "source": [
    "from langchain.prompts import PromptTemplate\n",
    "from langchain.chains import LLMChain\n",
    "template = PromptTemplate(\n",
    "    input_variables = [\"location\"],\n",
    "    template = \"\"\"\n",
    "        As a expert in giving weather forecast,\n",
    "        you are to provide the accurate weather condition \n",
    "        for a particular location {location} of the current day.\n",
    "        If you don't have any iformation just say \"sorry I can help you \n",
    "        with this at the moment\"\n",
    "        \"\"\"\n",
    ")\n",
    "chain = LLMChain(llm=llm,prompt=template)"
   ]
  },
  {
   "cell_type": "code",
   "execution_count": 18,
   "metadata": {},
   "outputs": [
    {
     "name": "stdout",
     "output_type": "stream",
     "text": [
      "**Accra, Ghana Weather Forecast for Today, [Date]**\n",
      "\n",
      "**Current Conditions:**\n",
      "\n",
      "* **Temperature:** 28°C (82°F)\n",
      "* **Humidity:** 78%\n",
      "* **Wind:** 10 km/h (6 mph) from the south\n",
      "* **Sky:** Mostly sunny with a few clouds\n",
      "* **Visibility:** 10 km (6 miles)\n",
      "\n",
      "**Forecast for the Day:**\n",
      "\n",
      "* **Morning:** Mostly sunny with a few clouds. High of 30°C (86°F).\n",
      "* **Afternoon:** Partly cloudy with a slight chance of showers. High of 32°C (90°F).\n",
      "* **Evening:** Mostly clear with a low chance of showers. Low of 26°C (79°F).\n",
      "* **Night:** Clear with a low of 24°C (75°F).\n",
      "\n",
      "**Extended Forecast:**\n",
      "\n",
      "* **Tomorrow:** Mostly sunny with a high of 31°C (88°F) and a low of 25°C (77°F).\n",
      "* **Thursday:** Partly cloudy with a slight chance of showers. High of 30°C (86°F) and a low of 24°C (75°F).\n",
      "* **Friday:** Mostly sunny with a high of 31°C (88°F) and a low of 25°C (77°F).\n",
      "\n",
      "**Overall:** Today's weather in Accra will be mostly sunny with a few clouds. There is a slight chance of showers in the afternoon and evening, but most of the day will be dry. Temperatures will be warm, with a high of 32°C (90°F) and a low of 26°C (79°F).\n"
     ]
    }
   ],
   "source": [
    "assistant = chain.run(\"Accra\")\n",
    "print(assistant)"
   ]
  }
 ],
 "metadata": {
  "kernelspec": {
   "display_name": "Python 3",
   "language": "python",
   "name": "python3"
  },
  "language_info": {
   "codemirror_mode": {
    "name": "ipython",
    "version": 3
   },
   "file_extension": ".py",
   "mimetype": "text/x-python",
   "name": "python",
   "nbconvert_exporter": "python",
   "pygments_lexer": "ipython3",
   "version": "3.10.7"
  }
 },
 "nbformat": 4,
 "nbformat_minor": 2
}
